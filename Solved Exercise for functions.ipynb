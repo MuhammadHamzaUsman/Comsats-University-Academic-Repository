{
 "cells": [
  {
   "cell_type": "markdown",
   "id": "52eb2a67",
   "metadata": {},
   "source": [
    "# "
   ]
  },
  {
   "cell_type": "markdown",
   "id": "0f457af5",
   "metadata": {},
   "source": [
    "# Solved Exercise for functions"
   ]
  },
  {
   "cell_type": "code",
   "execution_count": 26,
   "id": "165ea334",
   "metadata": {},
   "outputs": [
    {
     "name": "stdout",
     "output_type": "stream",
     "text": [
      "\n",
      "Hello, hamza!\n",
      "It is  2024-11-28 13:13:35.261453\n",
      "None\n"
     ]
    }
   ],
   "source": [
    "#Q1)\n",
    "\n",
    "import datetime\n",
    "\n",
    "def greet_with_time(name) :\n",
    "    print(\"\\nHello, \" + name + \"!\")\n",
    "    print(\"It is \", datetime.datetime.now())\n",
    "    \n",
    "print(greet_with_time(\"hamza\"))"
   ]
  },
  {
   "cell_type": "code",
   "execution_count": 17,
   "id": "8bc5d1a3",
   "metadata": {},
   "outputs": [
    {
     "name": "stdout",
     "output_type": "stream",
     "text": [
      "Average: 45.0\n"
     ]
    }
   ],
   "source": [
    "#Q2)\n",
    "\n",
    "def calculate_average(no1, no2, no3) :\n",
    "    Sum = no1 +no2 + no3\n",
    "    average = Sum / 3\n",
    "    return average\n",
    "\n",
    "print(\"Average:\", calculate_average(23,45,67))\n",
    "    "
   ]
  },
  {
   "cell_type": "code",
   "execution_count": 18,
   "id": "53a72153",
   "metadata": {},
   "outputs": [
    {
     "name": "stdout",
     "output_type": "stream",
     "text": [
      "Total Price: 190.0\n",
      "Total Price: 405.0\n"
     ]
    }
   ],
   "source": [
    "#Q3)\n",
    "\n",
    "def calculate_discount(price, discount_percentage = 10) :\n",
    "    discount_price = price * (discount_percentage / 100)\n",
    "    total_price = price - discount_price\n",
    "    return total_price\n",
    "\n",
    "print(\"Total Price:\", calculate_discount(200, 5))\n",
    "print(\"Total Price:\", calculate_discount(450))"
   ]
  },
  {
   "cell_type": "code",
   "execution_count": 19,
   "id": "f499af47",
   "metadata": {},
   "outputs": [
    {
     "name": "stdout",
     "output_type": "stream",
     "text": [
      "Hamza Usman lives in Lahore\n",
      "His age is 18\n",
      "None\n"
     ]
    }
   ],
   "source": [
    "#Q4)\n",
    "\n",
    "def print_info(name, age, city) :\n",
    "    print(name.title(), \"lives in\", city.title())\n",
    "    print(\"His age is\", age)\n",
    "    \n",
    "print(print_info(age = 18, name = \"hamza usman\", city = \"Lahore\"))"
   ]
  },
  {
   "cell_type": "code",
   "execution_count": 20,
   "id": "df1ce22b",
   "metadata": {},
   "outputs": [
    {
     "name": "stdout",
     "output_type": "stream",
     "text": [
      "Max: 234\n"
     ]
    }
   ],
   "source": [
    "#Q5)\n",
    "\n",
    "def find_max(*numbers) :\n",
    "    Max = max(numbers)\n",
    "    return Max\n",
    "\n",
    "print(\"Max:\", find_max(2,3,5,3,1,4,6,7,54,3,2,45,5,3,234))"
   ]
  },
  {
   "cell_type": "code",
   "execution_count": 21,
   "id": "66a58689",
   "metadata": {},
   "outputs": [
    {
     "name": "stdout",
     "output_type": "stream",
     "text": [
      "Factorial: 3628800\n"
     ]
    }
   ],
   "source": [
    "#Q6)\n",
    "\n",
    "def factorial(number) :\n",
    "    result = 1\n",
    "    if number > 0 :\n",
    "        result = number * factorial(number - 1)\n",
    "    return result\n",
    "\n",
    "print(\"Factorial:\", factorial(10))"
   ]
  },
  {
   "cell_type": "code",
   "execution_count": 22,
   "id": "f7a392a7",
   "metadata": {},
   "outputs": [
    {
     "name": "stdout",
     "output_type": "stream",
     "text": [
      "List: [1, 2, 3, 4, 5, 6, 7, 8, 9]\n",
      "Factorial list: [1, 2, 6, 24, 120, 720, 5040, 40320, 362880]\n"
     ]
    }
   ],
   "source": [
    "#Q7)\n",
    "\n",
    "def factorial(number) :\n",
    "    result = 1\n",
    "    if number > 0 :\n",
    "        result = number * factorial(number - 1)\n",
    "    return result\n",
    "\n",
    "def apply_function(factorial, number_list) :\n",
    "    result_list = []\n",
    "    for number in number_list :\n",
    "        result_list.append(factorial(number))\n",
    "    return result_list\n",
    "\n",
    "no_list = [1,2,3,4,5,6,7,8,9]\n",
    "print(\"List:\", no_list)\n",
    "print(\"Factorial list:\", apply_function(factorial, no_list))"
   ]
  },
  {
   "cell_type": "code",
   "execution_count": 23,
   "id": "89a2f025",
   "metadata": {},
   "outputs": [
    {
     "name": "stdout",
     "output_type": "stream",
     "text": [
      "Enter number: 34\n",
      "Square: 1156\n"
     ]
    }
   ],
   "source": [
    "#Q8)\n",
    "number = int(input(\"Enter number: \"))\n",
    "square_number = lambda number : number * number\n",
    "print(\"Square:\",square_number(number))"
   ]
  },
  {
   "cell_type": "code",
   "execution_count": 24,
   "id": "b19847c2",
   "metadata": {},
   "outputs": [
    {
     "name": "stdout",
     "output_type": "stream",
     "text": [
      "List: [1, 2, 3, 4, 5, 6, 7, 8, 9]\n",
      "Factorial list: [2, 4, 6, 8, 10, 12, 14, 16, 18]\n"
     ]
    }
   ],
   "source": [
    "#Q9)\n",
    "def doubler(number) :\n",
    "    return number * 2\n",
    "\n",
    "def apply_function(factorial, number_list) :\n",
    "    result_list = []\n",
    "    for number in number_list :\n",
    "        result_list.append(doubler(number))\n",
    "    return result_list\n",
    "\n",
    "no_list = [1,2,3,4,5,6,7,8,9]\n",
    "print(\"List:\", no_list)\n",
    "print(\"Factorial list:\", apply_function(doubler, no_list))"
   ]
  },
  {
   "cell_type": "code",
   "execution_count": 25,
   "id": "62fa19d2",
   "metadata": {},
   "outputs": [
    {
     "name": "stdout",
     "output_type": "stream",
     "text": [
      "1\n",
      "1\n",
      "2\n",
      "3\n",
      "5\n",
      "8\n",
      "13\n",
      "21\n",
      "34\n",
      "55\n",
      "89\n",
      "144\n",
      "Execution Time: 0.0\n"
     ]
    }
   ],
   "source": [
    "#Q10)\n",
    "\n",
    "import time\n",
    "\n",
    "def measure_time(funct) :\n",
    "    def wrapper(limit):\n",
    "        start_time = time.time()\n",
    "        funct(limit)\n",
    "        end_time = time.time()\n",
    "        execution_time = end_time - start_time\n",
    "        print(\"Execution Time:\", execution_time)\n",
    "    return wrapper\n",
    "                \n",
    "@measure_time\n",
    "def fibonnaci_series(limit) :\n",
    "        fibonnaci = 0\n",
    "        number = 0\n",
    "        next_number = 1\n",
    "        i = 0\n",
    "        while i < limit :\n",
    "            fibonnaci = number + next_number\n",
    "            next_number = number\n",
    "            number = fibonnaci\n",
    "            if(fibonnaci < limit) :\n",
    "                print(fibonnaci)\n",
    "            i = fibonnaci\n",
    "\n",
    "limit = 150\n",
    "fibonnaci_series(limit)"
   ]
  },
  {
   "cell_type": "code",
   "execution_count": null,
   "id": "975fd0a0",
   "metadata": {},
   "outputs": [],
   "source": []
  }
 ],
 "metadata": {
  "kernelspec": {
   "display_name": "Python 3 (ipykernel)",
   "language": "python",
   "name": "python3"
  },
  "language_info": {
   "codemirror_mode": {
    "name": "ipython",
    "version": 3
   },
   "file_extension": ".py",
   "mimetype": "text/x-python",
   "name": "python",
   "nbconvert_exporter": "python",
   "pygments_lexer": "ipython3",
   "version": "3.11.5"
  }
 },
 "nbformat": 4,
 "nbformat_minor": 5
}
