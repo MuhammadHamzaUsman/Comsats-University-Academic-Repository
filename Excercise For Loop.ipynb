{
 "cells": [
  {
   "cell_type": "code",
   "execution_count": 10,
   "metadata": {},
   "outputs": [
    {
     "name": "stdout",
     "output_type": "stream",
     "text": [
      "Cars\n",
      "Cars2\n",
      "Planes\n",
      "Loin Kings\n",
      "9\n",
      "\n",
      "Cars: 0\n",
      "Cars2: 1\n",
      "Planes: 2\n",
      "Loin Kings: 3\n",
      "9: 4\n"
     ]
    }
   ],
   "source": [
    "#Q1)Movies\n",
    "movies = [\"Cars\", \"Cars2\", \"Planes\", \"Loin Kings\", \"9\"]\n",
    "for movie in movies :\n",
    "    print(movie)\n",
    "print()\n",
    "for movie in movies :\n",
    "    print(f\"{movie.title()}: {movies.index(movie)}\")"
   ]
  },
  {
   "cell_type": "code",
   "execution_count": 11,
   "metadata": {},
   "outputs": [
    {
     "name": "stdout",
     "output_type": "stream",
     "text": [
      "M\n",
      "u\n",
      "h\n",
      "a\n",
      "m\n",
      "m\n",
      "a\n",
      "d\n",
      " \n",
      "H\n",
      "a\n",
      "m\n",
      "z\n",
      "a\n",
      " \n",
      "U\n",
      "s\n",
      "m\n",
      "a\n",
      "n\n",
      "\n",
      "Number of vowels: 7\n"
     ]
    }
   ],
   "source": [
    "#Q2)Full Name\n",
    "full_name = \"Muhammad Hamza Usman\"\n",
    "vowels = [\"a\", \"e\", \"i\", \"o\", \"u\"]\n",
    "no_of_vowels = 0\n",
    "for char in full_name :\n",
    "    if char.lower() in vowels:\n",
    "        no_of_vowels += 1\n",
    "    print(char)\n",
    "print(f\"\\nNumber of vowels: {no_of_vowels}\")"
   ]
  },
  {
   "cell_type": "code",
   "execution_count": 12,
   "metadata": {},
   "outputs": [
    {
     "name": "stdout",
     "output_type": "stream",
     "text": [
      "Abdul Mughni: 82\n",
      "Hamza Usman: 81\n",
      "Aman Ijaz: 79\n",
      "Talha Ahmad: 79\n",
      "\n",
      "Highest Grade: 82\n"
     ]
    }
   ],
   "source": [
    "#Q3)Grades\n",
    "grades = {\n",
    "    \"abdul mughni\" : 82,\n",
    "    \"hamza usman\" : 81,\n",
    "    \"aman ijaz\" : 79,\n",
    "    \"talha ahmad\" : 79\n",
    "}\n",
    "for name, grade in grades.items() :\n",
    "    print(f\"{name.title()}: {grade}\")\n",
    "highest_grade = max(list(grades.values()))\n",
    "print(f\"\\nHighest Grade: {highest_grade}\")"
   ]
  },
  {
   "cell_type": "code",
   "execution_count": 22,
   "metadata": {},
   "outputs": [
    {
     "name": "stdout",
     "output_type": "stream",
     "text": [
      "8 8 1 9 4 \n",
      "9 9 9 2 5 \n",
      "9 2 4 7 8 \n",
      "7 3 3 7 3 \n",
      "2 1 3 2 1 \n",
      "\n",
      "Sum: 126\n"
     ]
    }
   ],
   "source": [
    "#Q4)2D Matrix\n",
    "import random\n",
    "height = 5\n",
    "width = 5\n",
    "Matrix = []\n",
    "Sum = 0\n",
    "for i in range(height) :\n",
    "    temp_list = []\n",
    "    for j in range(width) :\n",
    "        temp_list.append(int(random.randint(1,9)))\n",
    "    Matrix.append(temp_list)\n",
    "for row in Matrix :\n",
    "    for column in row :\n",
    "        Sum += column\n",
    "        print(f\"{column} \", end = \"\")\n",
    "    print()\n",
    "print(f\"\\nSum: {Sum}\")"
   ]
  },
  {
   "cell_type": "code",
   "execution_count": 26,
   "metadata": {},
   "outputs": [
    {
     "name": "stdout",
     "output_type": "stream",
     "text": [
      "Using Loop:  [0, 1, 4, 9, 16, 25, 36, 49, 64, 81, 100]\n",
      "\n",
      "Using Comprehension:  [0, 1, 4, 9, 16, 25, 36, 49, 64, 81, 100]\n"
     ]
    }
   ],
   "source": [
    "#Q5)Square\n",
    "limit = 10\n",
    "square_list_loop = []\n",
    "for i in range(0, limit + 1) :\n",
    "    square_list_loop.append(i * i)\n",
    "print(\"Using Loop: \", square_list_loop)\n",
    "square_list_comprehension = [i * i for i in range(0, limit + 1)]\n",
    "print(\"\\nUsing Comprehension: \", square_list_comprehension)"
   ]
  }
 ],
 "metadata": {
  "kernelspec": {
   "display_name": "base",
   "language": "python",
   "name": "python3"
  },
  "language_info": {
   "codemirror_mode": {
    "name": "ipython",
    "version": 3
   },
   "file_extension": ".py",
   "mimetype": "text/x-python",
   "name": "python",
   "nbconvert_exporter": "python",
   "pygments_lexer": "ipython3",
   "version": "3.12.4"
  }
 },
 "nbformat": 4,
 "nbformat_minor": 2
}
