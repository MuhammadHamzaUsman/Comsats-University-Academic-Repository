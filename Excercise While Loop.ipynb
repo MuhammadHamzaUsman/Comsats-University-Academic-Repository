{
 "cells": [
  {
   "cell_type": "code",
   "execution_count": null,
   "metadata": {},
   "outputs": [
    {
     "name": "stdout",
     "output_type": "stream",
     "text": [
      "1\n",
      "2\n",
      "3\n",
      "4\n",
      "5\n",
      "6\n",
      "7\n",
      "8\n",
      "9\n",
      "10\n"
     ]
    },
    {
     "name": "stdout",
     "output_type": "stream",
     "text": [
      "1\n",
      "2\n",
      "3\n",
      "4\n",
      "5\n",
      "6\n",
      "7\n",
      "8\n",
      "9\n",
      "10\n"
     ]
    }
   ],
   "source": [
    "#Q1)Counting\n",
    "q1number = 1\n",
    "while q1number <= 10 :\n",
    "    print(q1number)\n",
    "    q1number += 1"
   ]
  },
  {
   "cell_type": "code",
   "execution_count": null,
   "metadata": {},
   "outputs": [
    {
     "name": "stdout",
     "output_type": "stream",
     "text": [
      "2\n",
      "4\n",
      "6\n",
      "8\n",
      "10\n",
      "12\n",
      "14\n",
      "16\n",
      "18\n",
      "20\n"
     ]
    }
   ],
   "source": [
    "#Q2)Even Number\n",
    "even_number = 2\n",
    "while even_number <= 20 :\n",
    "    print(even_number)\n",
    "    even_number += 2"
   ]
  },
  {
   "cell_type": "code",
   "execution_count": null,
   "metadata": {},
   "outputs": [
    {
     "name": "stdout",
     "output_type": "stream",
     "text": [
      "Sum of Natural Number: 55\n"
     ]
    }
   ],
   "source": [
    "#Q3)Sum of Natural Number\n",
    "q3number = 1\n",
    "sum_of_natural = 0\n",
    "while q3number <= 10 :\n",
    "    sum_of_natural += q3number\n",
    "    q3number += 1\n",
    "print(f\"Sum of Natural Number: {sum_of_natural}\")"
   ]
  },
  {
   "cell_type": "code",
   "execution_count": null,
   "metadata": {},
   "outputs": [
    {
     "name": "stdout",
     "output_type": "stream",
     "text": [
      "Positive to Continue\n",
      "Negative to Exit\n"
     ]
    }
   ],
   "source": [
    "#Q4)User Input\n",
    "q4_is_active = True\n",
    "q4_sum = 0\n",
    "print(\"Positive to Continue\\nNegative to Exit\")\n",
    "while q4_is_active :\n",
    "    q4_user_input = int(input(\"Enter Number: \"))\n",
    "    if q4_user_input >= 0 :\n",
    "        q4_sum += q4_user_input\n",
    "    elif q4_user_input < 0 :\n",
    "        q4_is_active = False\n",
    "print(f\"\\nSum: {q4_sum}\")"
   ]
  },
  {
   "cell_type": "code",
   "execution_count": 3,
   "metadata": {},
   "outputs": [
    {
     "name": "stdout",
     "output_type": "stream",
     "text": [
      "Guess Number\n"
     ]
    }
   ],
   "source": [
    "#Q5)Guess Game\n",
    "import random\n",
    "\n",
    "guess_number = random.randint(1, 100)\n",
    "q5_is_active = True\n",
    "print(\"Guess Number\")\n",
    "while q5_is_active :\n",
    "    q5_user_input = int(input(\"Enter Number: \"))\n",
    "    if q5_user_input > guess_number :\n",
    "        print(\"High\")\n",
    "    elif q5_user_input < guess_number :\n",
    "        print(\"Low\")\n",
    "    elif q5_user_input == guess_number :\n",
    "        q5_is_active = False\n",
    "print(f\"You Won\\nNumber is {guess_number}\")"
   ]
  },
  {
   "cell_type": "code",
   "execution_count": 1,
   "metadata": {},
   "outputs": [],
   "source": [
    "#Q6)Factorial\n",
    "q6_input = int(input(\"Enter Number: \"))\n",
    "factorial = 1\n",
    "while q6_input > 0 :\n",
    "    factorial *= q6_input\n",
    "    q6_input -= 1\n",
    "print(f\"Factorial: {factorial}\")"
   ]
  },
  {
   "cell_type": "code",
   "execution_count": null,
   "metadata": {},
   "outputs": [],
   "source": [
    "#Q7)User Average\n",
    "q7_is_active = True\n",
    "q7_sum = 0\n",
    "q7_numbers = 0\n",
    "print(\"Enter Number to Calculate Average\\nEnter 'done' to Exit\")\n",
    "while q7_is_active :\n",
    "    q7_input = input(\"Enter: \")\n",
    "    if q7_input.lower() == \"done\" :\n",
    "        q7_is_active = False\n",
    "    else :\n",
    "        q7_sum += int(q7_input)\n",
    "        q7_numbers += 1\n",
    "print(f\"Average: {q7_sum/q7_numbers}\")"
   ]
  },
  {
   "cell_type": "code",
   "execution_count": null,
   "metadata": {},
   "outputs": [],
   "source": [
    "#Q8)Fibonnaci\n",
    "fibonnaci = 0\n",
    "number = 0 \n",
    "next_number = 1\n",
    "limit = int(input(\"Enter the limit : \"))\n",
    "i = 0\n",
    "print(fibonnaci, number, next_number)\n",
    "while i < limit :\n",
    "    fibonnaci = number + next_number\n",
    "    next_number = number\n",
    "    number = fibonnaci\n",
    "    print(fibonnaci, number, next_number)\n",
    "    if(fibonnaci < limit) :\n",
    "        print(fibonnaci)\n",
    "    i = fibonnaci"
   ]
  }
 ],
 "metadata": {
  "kernelspec": {
   "display_name": "base",
   "language": "python",
   "name": "python3"
  },
  "language_info": {
   "codemirror_mode": {
    "name": "ipython",
    "version": 3
   },
   "file_extension": ".py",
   "mimetype": "text/x-python",
   "name": "python",
   "nbconvert_exporter": "python",
   "pygments_lexer": "ipython3",
   "version": "3.12.4"
  }
 },
 "nbformat": 4,
 "nbformat_minor": 2
}
