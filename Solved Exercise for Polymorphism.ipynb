{
 "cells": [
  {
   "cell_type": "markdown",
   "id": "51d4e6db",
   "metadata": {},
   "source": [
    "# Solved Exercise for Polymorphism"
   ]
  },
  {
   "cell_type": "code",
   "execution_count": 1,
   "id": "e6f17bc5",
   "metadata": {},
   "outputs": [
    {
     "name": "stdout",
     "output_type": "stream",
     "text": [
      "Shape: Triangle\n",
      "Color: Green\n",
      " Area: 25.0\n",
      "\n",
      "Shape: Rectangle\n",
      "Color: Yellow\n",
      " Area: 42\n",
      "\n",
      "Shape: Circle\n",
      "Color: Black\n",
      " Area: 706.85775\n",
      "\n"
     ]
    }
   ],
   "source": [
    "#Q9)\n",
    "class Shape :\n",
    "    def __init__ (self, color, shape_type) :\n",
    "        self.color = color\n",
    "        self.shape_type = shape_type\n",
    "    def area (self) :\n",
    "        area = 0\n",
    "        return area\n",
    "    def describe_shape (self) :\n",
    "        print(f\"Shape: {self.shape_type.title()}\\nColor: {self.color.title()}\")\n",
    "\n",
    "class Circle(Shape) :\n",
    "    def __init__ (self, color, radius, shape_type) :\n",
    "        super().__init__(color, shape_type)\n",
    "        self.radius = radius\n",
    "    def area (self) :\n",
    "        return (3.14159 * (self.radius ** 2))\n",
    "\n",
    "class Rectangle(Shape) :\n",
    "    def __init__ (self, color, length, width, shape_type) :\n",
    "        super().__init__(color, shape_type)\n",
    "        self.length = length\n",
    "        self.width = width\n",
    "    def area (self) :\n",
    "        return (self.width * self.length)\n",
    "    \n",
    "class Triangle(Shape) :\n",
    "    def __init__ (self, color, height, base, shape_type) :\n",
    "        super().__init__(color, shape_type)\n",
    "        self.height = height\n",
    "        self.base = base\n",
    "    def area (self) :\n",
    "        return ((self.height * self.base) *  (1/2))\n",
    "    \n",
    "triangle1 = Triangle(\"Green\", 10, 5, \"Triangle\")\n",
    "rectangle1 = Rectangle(\"Yellow\", 6, 7, \"Rectangle\")\n",
    "circle1 = Circle(\"Black\", 15, \"circle\")\n",
    "\n",
    "triangle1.describe_shape()\n",
    "print(f\" Area: {triangle1.area()}\\n\")\n",
    "rectangle1.describe_shape()\n",
    "print(f\" Area: {rectangle1.area()}\\n\")\n",
    "circle1.describe_shape()\n",
    "print(f\" Area: {circle1.area()}\\n\")"
   ]
  },
  {
   "cell_type": "code",
   "execution_count": 3,
   "id": "defbcc5e",
   "metadata": {},
   "outputs": [
    {
     "name": "stdout",
     "output_type": "stream",
     "text": [
      "Husky Bark's\n",
      "Garfield Meow's\n",
      "Ayrshire Cattle Moo's\n"
     ]
    }
   ],
   "source": [
    "#Q10)\n",
    "class Animal:\n",
    "    def __init__(self, name, sound = \"No Sound\"):\n",
    "        self.name = name\n",
    "        self.sound = sound\n",
    "    def make_sound(self):\n",
    "        print(f\"{self.name.title()} {self.sound.title()}'s\")\n",
    "\n",
    "class Dog (Animal) :\n",
    "    def __init__ (self, name, sound = \"bark\") :\n",
    "        super().__init__(name)\n",
    "        self.sound = sound\n",
    "    def make_sound(self):\n",
    "        print(f\"{self.name.title()} {self.sound.title()}'s\")\n",
    "\n",
    "class Cat (Animal) :\n",
    "    def __init__ (self, name, sound = \"meow\") :\n",
    "        super().__init__(name, sound)\n",
    "        self.sound = sound\n",
    "    def make_sound(self):\n",
    "        print(f\"{self.name.title()} {self.sound.title()}'s\")\n",
    "        \n",
    "class Cow (Animal) :\n",
    "    def __init__ (self, name, sound = \"moo\") :\n",
    "        super().__init__(name, sound)\n",
    "        self.sound = sound\n",
    "    def make_sound(self):\n",
    "        print(f\"{self.name.title()} {self.sound.title()}'s\")\n",
    "        \n",
    "dog1 = Dog(\"Husky\")\n",
    "cat1 = Cat(\"Garfield\")\n",
    "cow1 = Cow(\"Ayrshire cattle\")\n",
    "\n",
    "dog1.make_sound()\n",
    "cat1.make_sound()\n",
    "cow1.make_sound()"
   ]
  },
  {
   "cell_type": "code",
   "execution_count": null,
   "id": "f4bf9ae3",
   "metadata": {},
   "outputs": [],
   "source": []
  }
 ],
 "metadata": {
  "kernelspec": {
   "display_name": "Python 3 (ipykernel)",
   "language": "python",
   "name": "python3"
  },
  "language_info": {
   "codemirror_mode": {
    "name": "ipython",
    "version": 3
   },
   "file_extension": ".py",
   "mimetype": "text/x-python",
   "name": "python",
   "nbconvert_exporter": "python",
   "pygments_lexer": "ipython3",
   "version": "3.11.5"
  }
 },
 "nbformat": 4,
 "nbformat_minor": 5
}
